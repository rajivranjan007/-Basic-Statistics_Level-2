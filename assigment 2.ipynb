{
 "cells": [
  {
   "cell_type": "code",
   "execution_count": 2,
   "id": "5e700d0c",
   "metadata": {},
   "outputs": [],
   "source": [
    "import numpy as np\n",
    "import scipy\n",
    "from scipy import stats\n",
    "import matplotlib.pyplot as plt\n",
    "%matplotlib inline"
   ]
  },
  {
   "cell_type": "code",
   "execution_count": 3,
   "id": "a6c729ff",
   "metadata": {},
   "outputs": [],
   "source": [
    "df=np.array([24.23,25.53,25.41,24.14,29.62,28.25,25.81,24.39,40.26,32.95,91.36,25.99,39.42,26.71,35.00])\n"
   ]
  },
  {
   "cell_type": "code",
   "execution_count": 4,
   "id": "07bb78c2",
   "metadata": {},
   "outputs": [
    {
     "data": {
      "text/plain": [
       "array([24.23, 25.53, 25.41, 24.14, 29.62, 28.25, 25.81, 24.39, 40.26,\n",
       "       32.95, 91.36, 25.99, 39.42, 26.71, 35.  ])"
      ]
     },
     "execution_count": 4,
     "metadata": {},
     "output_type": "execute_result"
    }
   ],
   "source": [
    "df"
   ]
  },
  {
   "cell_type": "code",
   "execution_count": 6,
   "id": "03bc2769",
   "metadata": {},
   "outputs": [
    {
     "data": {
      "text/plain": [
       "{'whiskers': [<matplotlib.lines.Line2D at 0x24455799310>,\n",
       "  <matplotlib.lines.Line2D at 0x244557995e0>],\n",
       " 'caps': [<matplotlib.lines.Line2D at 0x24455799970>,\n",
       "  <matplotlib.lines.Line2D at 0x24455799b80>],\n",
       " 'boxes': [<matplotlib.lines.Line2D at 0x24455799040>],\n",
       " 'medians': [<matplotlib.lines.Line2D at 0x24455799e50>],\n",
       " 'fliers': [<matplotlib.lines.Line2D at 0x24455e4c160>],\n",
       " 'means': []}"
      ]
     },
     "execution_count": 6,
     "metadata": {},
     "output_type": "execute_result"
    },
    {
     "data": {
      "image/png": "[encoded data removed]",
      "text/plain": [
       "<Figure size 432x288 with 1 Axes>"
      ]
     },
     "metadata": {
      "needs_background": "light"
     },
     "output_type": "display_data"
    }
   ],
   "source": [
    "plt.boxplot(df)"
   ]
  },
  {
   "cell_type": "code",
   "execution_count": null,
   "id": "499554c4",
   "metadata": {},
   "outputs": [],
   "source": []
  },
  {
   "cell_type": "code",
   "execution_count": 7,
   "id": "56f1f851",
   "metadata": {},
   "outputs": [
    {
     "data": {
      "text/plain": [
       "33.27133333333333"
      ]
     },
     "execution_count": 7,
     "metadata": {},
     "output_type": "execute_result"
    }
   ],
   "source": [
    "df.mean()"
   ]
  },
  {
   "cell_type": "code",
   "execution_count": 10,
   "id": "e1af26d9",
   "metadata": {},
   "outputs": [
    {
     "data": {
      "text/plain": [
       "268.004"
      ]
     },
     "execution_count": 10,
     "metadata": {},
     "output_type": "execute_result"
    }
   ],
   "source": [
    "np.round(df.var(),3)"
   ]
  },
  {
   "cell_type": "code",
   "execution_count": 9,
   "id": "e7a60564",
   "metadata": {},
   "outputs": [
    {
     "data": {
      "text/plain": [
       "16.370812590976932"
      ]
     },
     "execution_count": 9,
     "metadata": {},
     "output_type": "execute_result"
    }
   ],
   "source": [
    "df.std()"
   ]
  },
  {
   "cell_type": "code",
   "execution_count": 11,
   "id": "deb250f5",
   "metadata": {},
   "outputs": [],
   "source": [
    "df1=np.array([-200,-100,0,200,600,300])"
   ]
  },
  {
   "cell_type": "code",
   "execution_count": 12,
   "id": "62a90eb2",
   "metadata": {},
   "outputs": [
    {
     "data": {
      "text/plain": [
       "133.33333333333334"
      ]
     },
     "execution_count": 12,
     "metadata": {},
     "output_type": "execute_result"
    }
   ],
   "source": [
    "df1.mean()"
   ]
  },
  {
   "cell_type": "code",
   "execution_count": 13,
   "id": "cf6a38b5",
   "metadata": {},
   "outputs": [
    {
     "data": {
      "text/plain": [
       "268.74192494328497"
      ]
     },
     "execution_count": 13,
     "metadata": {},
     "output_type": "execute_result"
    }
   ],
   "source": [
    "df1.std()"
   ]
  },
  {
   "cell_type": "code",
   "execution_count": 14,
   "id": "b1b71352",
   "metadata": {},
   "outputs": [
    {
     "data": {
      "text/plain": [
       "72222.22222222222"
      ]
     },
     "execution_count": 14,
     "metadata": {},
     "output_type": "execute_result"
    }
   ],
   "source": [
    "df1.var()"
   ]
  },
  {
   "cell_type": "markdown",
   "id": "4dcdefe1",
   "metadata": {},
   "source": [
    "# normal distribution"
   ]
  },
  {
   "cell_type": "markdown",
   "id": "65ed6b40",
   "metadata": {},
   "source": [
    "# Q1:-"
   ]
  },
  {
   "cell_type": "code",
   "execution_count": 15,
   "id": "3082bc25",
   "metadata": {},
   "outputs": [],
   "source": [
    "prob=1-stats.norm.cdf(0.625)"
   ]
  },
  {
   "cell_type": "code",
   "execution_count": 16,
   "id": "15c00d66",
   "metadata": {},
   "outputs": [
    {
     "data": {
      "text/plain": [
       "0.26598552904870054"
      ]
     },
     "execution_count": 16,
     "metadata": {},
     "output_type": "execute_result"
    }
   ],
   "source": [
    "prob"
   ]
  },
  {
   "cell_type": "code",
   "execution_count": 17,
   "id": "43fd6558",
   "metadata": {},
   "outputs": [
    {
     "data": {
      "text/plain": [
       "0.26598552904870054"
      ]
     },
     "execution_count": 17,
     "metadata": {},
     "output_type": "execute_result"
    }
   ],
   "source": [
    "1-stats.norm.cdf(50,45,8)"
   ]
  },
  {
   "cell_type": "markdown",
   "id": "a2110bfb",
   "metadata": {},
   "source": [
    "# Q2"
   ]
  },
  {
   "cell_type": "code",
   "execution_count": 19,
   "id": "9fbfc87e",
   "metadata": {},
   "outputs": [
    {
     "data": {
      "text/plain": [
       "0.15865525393145707"
      ]
     },
     "execution_count": 19,
     "metadata": {},
     "output_type": "execute_result"
    }
   ],
   "source": [
    "1-stats.norm.cdf(44,38,6)"
   ]
  },
  {
   "cell_type": "code",
   "execution_count": 20,
   "id": "e7fe425c",
   "metadata": {},
   "outputs": [
    {
     "data": {
      "text/plain": [
       "0.3413447460685429"
      ]
     },
     "execution_count": 20,
     "metadata": {},
     "output_type": "execute_result"
    }
   ],
   "source": [
    "stats.norm.cdf(44,38,6)-stats.norm.cdf(38,38,6)"
   ]
  },
  {
   "cell_type": "code",
   "execution_count": null,
   "id": "d9e41810",
   "metadata": {},
   "outputs": [],
   "source": []
  },
  {
   "cell_type": "code",
   "execution_count": 22,
   "id": "4e8655dd",
   "metadata": {},
   "outputs": [
    {
     "data": {
      "text/plain": [
       "0.09121121972586788"
      ]
     },
     "execution_count": 22,
     "metadata": {},
     "output_type": "execute_result"
    }
   ],
   "source": [
    "stats.norm.cdf(30,38,6)"
   ]
  },
  {
   "cell_type": "code",
   "execution_count": 23,
   "id": "ceb75c09",
   "metadata": {},
   "outputs": [],
   "source": [
    "CI_99=stats.norm.interval(0.99,100,20)"
   ]
  },
  {
   "cell_type": "code",
   "execution_count": 24,
   "id": "b94d6db0",
   "metadata": {},
   "outputs": [
    {
     "data": {
      "text/plain": [
       "(48.48341392902199, 151.516586070978)"
      ]
     },
     "execution_count": 24,
     "metadata": {},
     "output_type": "execute_result"
    }
   ],
   "source": [
    "CI_99"
   ]
  },
  {
   "cell_type": "code",
   "execution_count": 26,
   "id": "408f728e",
   "metadata": {},
   "outputs": [
    {
     "data": {
      "text/plain": [
       "(99.00810347848784, 980.9918965215122)"
      ]
     },
     "execution_count": 26,
     "metadata": {},
     "output_type": "execute_result"
    }
   ],
   "source": [
    "stats.norm.interval(0.95,540,225)"
   ]
  },
  {
   "cell_type": "code",
   "execution_count": 34,
   "id": "28951f42",
   "metadata": {},
   "outputs": [
    {
     "data": {
      "text/plain": [
       "0.0477903522728147"
      ]
     },
     "execution_count": 34,
     "metadata": {},
     "output_type": "execute_result"
    }
   ],
   "source": [
    "stats.norm.cdf(0,5,3)"
   ]
  },
  {
   "cell_type": "code",
   "execution_count": 36,
   "id": "de09eec1",
   "metadata": {},
   "outputs": [
    {
     "data": {
      "text/plain": [
       "0.040059156863817086"
      ]
     },
     "execution_count": 36,
     "metadata": {},
     "output_type": "execute_result"
    }
   ],
   "source": [
    "stats.norm.cdf(0,7,4)"
   ]
  },
  {
   "cell_type": "code",
   "execution_count": 7,
   "id": "ade9b828",
   "metadata": {},
   "outputs": [],
   "source": [
    "z_scores=(0.046-0.05)/(np.sqrt((0.05*(1-0.05))/2000))"
   ]
  },
  {
   "cell_type": "code",
   "execution_count": 8,
   "id": "7d169e69",
   "metadata": {},
   "outputs": [
    {
     "data": {
      "text/plain": [
       "-0.820782681668124"
      ]
     },
     "execution_count": 8,
     "metadata": {},
     "output_type": "execute_result"
    }
   ],
   "source": [
    "z_scores"
   ]
  },
  {
   "cell_type": "code",
   "execution_count": 14,
   "id": "efd11fe6",
   "metadata": {},
   "outputs": [],
   "source": [
    "p_values=1-stats.norm.cdf(abs(z_scores))"
   ]
  },
  {
   "cell_type": "code",
   "execution_count": 15,
   "id": "9b382e55",
   "metadata": {},
   "outputs": [
    {
     "data": {
      "text/plain": [
       "0.20588503245107104"
      ]
     },
     "execution_count": 15,
     "metadata": {},
     "output_type": "execute_result"
    }
   ],
   "source": [
    "p_values"
   ]
  },
  {
   "cell_type": "code",
   "execution_count": 16,
   "id": "6f96e4d7",
   "metadata": {},
   "outputs": [
    {
     "data": {
      "text/plain": [
       "0.820782681668124"
      ]
     },
     "execution_count": 16,
     "metadata": {},
     "output_type": "execute_result"
    }
   ],
   "source": [
    "abs(z_scores)"
   ]
  },
  {
   "cell_type": "code",
   "execution_count": 16,
   "id": "740d3b54",
   "metadata": {},
   "outputs": [
    {
     "data": {
      "text/plain": [
       "0.820782681668124"
      ]
     },
     "execution_count": 16,
     "metadata": {},
     "output_type": "execute_result"
    }
   ],
   "source": [
    "abs(z_scores)"
   ]
  },
  {
   "cell_type": "markdown",
   "id": "98fb70c0",
   "metadata": {},
   "source": [
    "# set3\n",
    "Q5"
   ]
  },
  {
   "cell_type": "code",
   "execution_count": 62,
   "id": "f8e2bb48",
   "metadata": {},
   "outputs": [],
   "source": [
    "z_scores=(0.046-0.05)/(np.sqrt((0.05*(1-0.05))/2000))"
   ]
  },
  {
   "cell_type": "code",
   "execution_count": 68,
   "id": "43b1ebb1",
   "metadata": {},
   "outputs": [],
   "source": [
    "p_value=stats.norm.cdf((z_scores))"
   ]
  },
  {
   "cell_type": "code",
   "execution_count": 69,
   "id": "a737388d",
   "metadata": {},
   "outputs": [
    {
     "data": {
      "text/plain": [
       "0.20588503245107104"
      ]
     },
     "execution_count": 69,
     "metadata": {},
     "output_type": "execute_result"
    }
   ],
   "source": [
    "p_value"
   ]
  },
  {
   "cell_type": "markdown",
   "id": "0126f237",
   "metadata": {},
   "source": [
    "# Q8"
   ]
  },
  {
   "cell_type": "code",
   "execution_count": null,
   "id": "cc35115f",
   "metadata": {},
   "outputs": [],
   "source": [
    "ME= z*(square root(p*q/n))"
   ]
  },
  {
   "cell_type": "code",
   "execution_count": 70,
   "id": "b17a64f3",
   "metadata": {},
   "outputs": [],
   "source": [
    "n=((1.96)**2 * (0.5*0.5))/(0.04)**2"
   ]
  },
  {
   "cell_type": "code",
   "execution_count": 71,
   "id": "4e7b8ecd",
   "metadata": {},
   "outputs": [
    {
     "data": {
      "text/plain": [
       "600.2499999999999"
      ]
     },
     "execution_count": 71,
     "metadata": {},
     "output_type": "execute_result"
    }
   ],
   "source": [
    "n"
   ]
  },
  {
   "cell_type": "code",
   "execution_count": 73,
   "id": "9919537d",
   "metadata": {},
   "outputs": [],
   "source": [
    "n98=((2.326)**2 * (0.5*0.5))/(0.04)**2"
   ]
  },
  {
   "cell_type": "code",
   "execution_count": 74,
   "id": "aefe20c8",
   "metadata": {},
   "outputs": [
    {
     "data": {
      "text/plain": [
       "845.355625"
      ]
     },
     "execution_count": 74,
     "metadata": {},
     "output_type": "execute_result"
    }
   ],
   "source": [
    "n98"
   ]
  },
  {
   "cell_type": "markdown",
   "id": "57068c53",
   "metadata": {},
   "source": [
    "# Topics: Sampling Distributions and Central Limit Theorem"
   ]
  },
  {
   "cell_type": "markdown",
   "id": "74a4c9ee",
   "metadata": {},
   "source": [
    "# set4"
   ]
  },
  {
   "cell_type": "markdown",
   "id": "4cb5152a",
   "metadata": {},
   "source": [
    "# Q3"
   ]
  },
  {
   "cell_type": "code",
   "execution_count": 80,
   "id": "410a243c",
   "metadata": {},
   "outputs": [
    {
     "data": {
      "text/plain": [
       "-1.25"
      ]
     },
     "execution_count": 80,
     "metadata": {},
     "output_type": "execute_result"
    }
   ],
   "source": [
    "z=(45-50)/(40/100**0.5)\n",
    "z"
   ]
  },
  {
   "cell_type": "code",
   "execution_count": 81,
   "id": "e26394d3",
   "metadata": {},
   "outputs": [
    {
     "data": {
      "text/plain": [
       "1.25"
      ]
     },
     "execution_count": 81,
     "metadata": {},
     "output_type": "execute_result"
    }
   ],
   "source": [
    "z1=(55-50)/(40/100**0.5)\n",
    "z1"
   ]
  },
  {
   "cell_type": "code",
   "execution_count": 82,
   "id": "0ffd199a",
   "metadata": {},
   "outputs": [
    {
     "data": {
      "text/plain": [
       "0.7887004526662893"
      ]
     },
     "execution_count": 82,
     "metadata": {},
     "output_type": "execute_result"
    }
   ],
   "source": [
    "stats.norm.cdf(1.25)-stats.norm.cdf(-1.25)"
   ]
  },
  {
   "cell_type": "markdown",
   "id": "c0e5e99a",
   "metadata": {},
   "source": [
    "# Q4"
   ]
  },
  {
   "cell_type": "code",
   "execution_count": null,
   "id": "2acc9476",
   "metadata": {},
   "outputs": [],
   "source": []
  },
  {
   "cell_type": "code",
   "execution_count": null,
   "id": "ee0702b3",
   "metadata": {},
   "outputs": [],
   "source": []
  }
 ],
 "metadata": {
  "kernelspec": {
   "display_name": "Python 3 (ipykernel)",
   "language": "python",
   "name": "python3"
  },
  "language_info": {
   "codemirror_mode": {
    "name": "ipython",
    "version": 3
   },
   "file_extension": ".py",
   "mimetype": "text/x-python",
   "name": "python",
   "nbconvert_exporter": "python",
   "pygments_lexer": "ipython3",
   "version": "3.9.12"
  }
 },
 "nbformat": 4,
 "nbformat_minor": 5
}
